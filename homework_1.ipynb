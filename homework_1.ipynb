{
 "cells": [
  {
   "cell_type": "markdown",
   "id": "9b2df592",
   "metadata": {},
   "source": [
    "1. ### Посмотреть документацию к API GitHub, разобраться как вывести список репозиториев для конкретного пользователя, сохранить JSON-вывод в файле *.json."
   ]
  },
  {
   "cell_type": "code",
   "execution_count": 7,
   "id": "8acd9666",
   "metadata": {},
   "outputs": [],
   "source": [
    "import requests\n",
    "import json"
   ]
  },
  {
   "cell_type": "code",
   "execution_count": 10,
   "id": "e2316eb4",
   "metadata": {},
   "outputs": [
    {
     "name": "stdout",
     "output_type": "stream",
     "text": [
      "username: Dmitriy29-png\n"
     ]
    }
   ],
   "source": [
    "url = 'https://api.github.com'\n",
    "user= username = input('username: ')"
   ]
  },
  {
   "cell_type": "code",
   "execution_count": 11,
   "id": "05121091",
   "metadata": {},
   "outputs": [],
   "source": [
    "r = requests.get(f'{url}/users/{user}/repos')\n"
   ]
  },
  {
   "cell_type": "code",
   "execution_count": 12,
   "id": "be1ba3cc",
   "metadata": {},
   "outputs": [],
   "source": [
    "with open('task_1.json', 'w') as f:\n",
    "    json.dump(r.json(), f)"
   ]
  },
  {
   "cell_type": "code",
   "execution_count": 13,
   "id": "8bb9877f",
   "metadata": {},
   "outputs": [
    {
     "name": "stdout",
     "output_type": "stream",
     "text": [
      "-MySQL\n",
      "full_app\n",
      "project\n",
      "Python-basics\n",
      "Python-Data-Science-continuation\n",
      "Python-for-Data-Science\n",
      "repo-githup\n"
     ]
    }
   ],
   "source": [
    "for i in r.json():\n",
    "    print(i['name'])"
   ]
  },
  {
   "cell_type": "markdown",
   "id": "2ba05003",
   "metadata": {},
   "source": [
    "2. ### Изучить список открытых API. Найти среди них любое, требующее авторизацию (любого типа). Выполнить запросы к нему, пройдя авторизацию. Ответ сервера записать в файл."
   ]
  },
  {
   "cell_type": "code",
   "execution_count": 14,
   "id": "32680e04",
   "metadata": {},
   "outputs": [],
   "source": [
    "appid = 'eskf0Y2XGDRcZllSsWsxyxCulsCmYMtpeGyeDTZ2'"
   ]
  },
  {
   "cell_type": "code",
   "execution_count": 15,
   "id": "07aaf7c0",
   "metadata": {},
   "outputs": [],
   "source": [
    "service = 'https://api.nasa.gov/neo/rest/v1/feed'\n",
    "    # https://api.nasa.gov/#authentication"
   ]
  },
  {
   "cell_type": "code",
   "execution_count": 16,
   "id": "87e134ab",
   "metadata": {},
   "outputs": [],
   "source": [
    "start_date = '2020-09-07'\n",
    "end_date = '2020-09-08'"
   ]
  },
  {
   "cell_type": "code",
   "execution_count": 17,
   "id": "b3fa9350",
   "metadata": {},
   "outputs": [],
   "source": [
    "req = requests.get(f'{service}?start_date=start_date&end_date=end_date&api_key={appid}')"
   ]
  },
  {
   "cell_type": "code",
   "execution_count": 18,
   "id": "19ab7d9c",
   "metadata": {},
   "outputs": [],
   "source": [
    "with open('task_2.json', 'w') as f:\n",
    "    json.dump(req.json(), f)"
   ]
  }
 ],
 "metadata": {
  "kernelspec": {
   "display_name": "Python 3",
   "language": "python",
   "name": "python3"
  },
  "language_info": {
   "codemirror_mode": {
    "name": "ipython",
    "version": 3
   },
   "file_extension": ".py",
   "mimetype": "text/x-python",
   "name": "python",
   "nbconvert_exporter": "python",
   "pygments_lexer": "ipython3",
   "version": "3.8.8"
  }
 },
 "nbformat": 4,
 "nbformat_minor": 5
}
